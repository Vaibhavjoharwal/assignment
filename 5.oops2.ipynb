{
 "cells": [
  {
   "cell_type": "code",
   "execution_count": 7,
   "metadata": {},
   "outputs": [
    {
     "name": "stdout",
     "output_type": "stream",
     "text": [
      "arya main college\n",
      "5\n"
     ]
    }
   ],
   "source": [
    "class arya:\n",
    "    def __init__(self):\n",
    "       self.Arya=5\n",
    "       self._Aryaa=6\n",
    "       self.__Aryaaa=56\n",
    "class student(arya):\n",
    "    print(\"arya main college\")  \n",
    "\n",
    "         \n",
    "obj=arya()\n",
    "s1=student()\n",
    "s1.Arya\n",
    "print(obj.Arya) \n"
   ]
  },
  {
   "cell_type": "code",
   "execution_count": null,
   "metadata": {},
   "outputs": [],
   "source": []
  },
  {
   "cell_type": "code",
   "execution_count": null,
   "metadata": {},
   "outputs": [],
   "source": []
  }
 ],
 "metadata": {
  "kernelspec": {
   "display_name": "base",
   "language": "python",
   "name": "python3"
  },
  "language_info": {
   "codemirror_mode": {
    "name": "ipython",
    "version": 3
   },
   "file_extension": ".py",
   "mimetype": "text/x-python",
   "name": "python",
   "nbconvert_exporter": "python",
   "pygments_lexer": "ipython3",
   "version": "3.12.4"
  }
 },
 "nbformat": 4,
 "nbformat_minor": 2
}
