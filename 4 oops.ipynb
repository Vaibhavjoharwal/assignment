{
 "cells": [
  {
   "cell_type": "code",
   "execution_count": 2,
   "metadata": {},
   "outputs": [
    {
     "name": "stdout",
     "output_type": "stream",
     "text": [
      "3\n"
     ]
    }
   ],
   "source": [
    "add = lambda x,y: x+y\n",
    "print(add(1,2))"
   ]
  },
  {
   "cell_type": "code",
   "execution_count": 2,
   "metadata": {},
   "outputs": [
    {
     "name": "stdout",
     "output_type": "stream",
     "text": [
      "10\n"
     ]
    }
   ],
   "source": [
    "class arya:\n",
    "    a=10\n",
    "a1= arya()\n",
    "print(a1.a)"
   ]
  },
  {
   "cell_type": "code",
   "execution_count": 3,
   "metadata": {},
   "outputs": [
    {
     "name": "stdout",
     "output_type": "stream",
     "text": [
      "good morning\n",
      "<__main__.arya object at 0x0000012C0B98AF90>\n"
     ]
    }
   ],
   "source": [
    "class Arya:\n",
    "    def hod():\n",
    "        print(\"good morning\")\n",
    "\n",
    "A1=  Arya.hod()\n",
    "print(a1)      "
   ]
  },
  {
   "cell_type": "code",
   "execution_count": 5,
   "metadata": {},
   "outputs": [
    {
     "name": "stdout",
     "output_type": "stream",
     "text": [
      "ARYA college\n",
      "10\n"
     ]
    }
   ],
   "source": [
    "class Arya:\n",
    "    def __init__(self):\n",
    "        self.a=10\n",
    "        print(\"ARYA college\")\n",
    "a1=Arya()\n",
    "print(a1.a)"
   ]
  },
  {
   "cell_type": "code",
   "execution_count": 6,
   "metadata": {},
   "outputs": [
    {
     "name": "stdout",
     "output_type": "stream",
     "text": [
      "address= ricco,kukas\n",
      "director= anuj agarwal\n"
     ]
    }
   ],
   "source": [
    "class arya_old:\n",
    "    def __init__(self):\n",
    "        self.address= \"address= ricco,kukas\"\n",
    "        self.director= \"director= anuj agarwal\"\n",
    "a1= arya_old()\n",
    "print(a1.address)        \n",
    "print(a1.director)\n"
   ]
  },
  {
   "cell_type": "code",
   "execution_count": 8,
   "metadata": {},
   "outputs": [
    {
     "name": "stdout",
     "output_type": "stream",
     "text": [
      "kukass\n",
      "xyz\n"
     ]
    }
   ],
   "source": [
    "# object creation through constructor\n",
    "class arya_old:\n",
    "    def __init__(self,address,director):\n",
    "        self.address=address\n",
    "        self.director=director\n",
    "obj= arya_old(\"kukass\",\"xyz\")   \n",
    "print(obj.address)   \n",
    "print(obj.director)  "
   ]
  },
  {
   "cell_type": "code",
   "execution_count": 16,
   "metadata": {},
   "outputs": [
    {
     "name": "stdout",
     "output_type": "stream",
     "text": [
      "vj\n"
     ]
    }
   ],
   "source": [
    "\n",
    "#constructor bhi h aur usim method then call kiya object\n",
    "class arya:\n",
    "    def __init__(self, student, section):\n",
    "        self.student=student\n",
    "        self.section= section\n",
    "    #display ek method hai\n",
    "    #def display(self):\n",
    "     #   print(self.student)\n",
    "      #  print(self.section)\n",
    "#obj=arya(\"vj\",\"F\")       \n",
    "#obj.display() \n",
    "A=arya('vj','f')\n",
    "print(A.student)\n",
    "        \n",
    "            "
   ]
  },
  {
   "cell_type": "code",
   "execution_count": 32,
   "metadata": {},
   "outputs": [
    {
     "name": "stdout",
     "output_type": "stream",
     "text": [
      "hello\n",
      "arya main\n"
     ]
    }
   ],
   "source": [
    "#inheritance\n",
    "#single inheritence\n",
    " \n",
    "class arya:\n",
    "    name= \"arya main\"\n",
    "    \n",
    "\n",
    "class Aryaold(arya):\n",
    "    print(\"hello\")\n",
    "    \n",
    "obj=Aryaold()\n",
    "print(Aryaold.name)"
   ]
  },
  {
   "cell_type": "code",
   "execution_count": null,
   "metadata": {},
   "outputs": [],
   "source": [
    "# multilevel inheritance\n",
    "class bankdetails:\n",
    "    def __init__(self,accountnumber):\n",
    "        self.accountnumber=accountnumber"
   ]
  },
  {
   "cell_type": "code",
   "execution_count": null,
   "metadata": {},
   "outputs": [
    {
     "name": "stdout",
     "output_type": "stream",
     "text": [
      "son\n"
     ]
    },
    {
     "data": {
      "text/plain": [
       "'arya'"
      ]
     },
     "execution_count": 42,
     "metadata": {},
     "output_type": "execute_result"
    }
   ],
   "source": [
    "#multplelevel inheritance\n",
    "class grandfather:\n",
    "    grandfathern=\"arya\"\n",
    "class father(grandfather):\n",
    "    fathern=\"aryaold\"\n",
    "class son (father):   \n",
    "    print(\"son\") \n",
    "\n",
    "obj= son()\n",
    "(obj.grandfathern )"
   ]
  },
  {
   "cell_type": "code",
   "execution_count": 44,
   "metadata": {},
   "outputs": [],
   "source": [
    "#hybrid\n",
    "class person:\n",
    "    pass\n",
    "class male(person):\n",
    "    pass\n",
    "class female(person):\n",
    "    pass\n",
    "class child(male,female):\n",
    "    pass"
   ]
  },
  {
   "cell_type": "code",
   "execution_count": null,
   "metadata": {},
   "outputs": [],
   "source": [
    "#heirrachial\n",
    "class person"
   ]
  },
  {
   "cell_type": "code",
   "execution_count": null,
   "metadata": {},
   "outputs": [
    {
     "name": "stdout",
     "output_type": "stream",
     "text": [
      "17\n"
     ]
    }
   ],
   "source": [
    "#polymorphism\n",
    "name = \"arya mainn campus\"\n",
    "print(name )\n",
    "print(len(name))"
   ]
  }
 ],
 "metadata": {
  "kernelspec": {
   "display_name": "base",
   "language": "python",
   "name": "python3"
  },
  "language_info": {
   "codemirror_mode": {
    "name": "ipython",
    "version": 3
   },
   "file_extension": ".py",
   "mimetype": "text/x-python",
   "name": "python",
   "nbconvert_exporter": "python",
   "pygments_lexer": "ipython3",
   "version": "3.12.4"
  }
 },
 "nbformat": 4,
 "nbformat_minor": 2
}
